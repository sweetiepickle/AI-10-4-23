{
  "nbformat": 4,
  "nbformat_minor": 0,
  "metadata": {
    "colab": {
      "provenance": [],
      "mount_file_id": "1WBXlHplEMmCp5dZe2LUFXF8DnAtw8u_I",
      "authorship_tag": "ABX9TyN2Yiu4Di9ZDh5+4nrU1m22",
      "include_colab_link": true
    },
    "kernelspec": {
      "name": "python3",
      "display_name": "Python 3"
    },
    "language_info": {
      "name": "python"
    }
  },
  "cells": [
    {
      "cell_type": "markdown",
      "metadata": {
        "id": "view-in-github",
        "colab_type": "text"
      },
      "source": [
        "<a href=\"https://colab.research.google.com/github/sweetiepickle/AI-10-4-23/blob/main/AI_10_4_23_no_idea.ipynb\" target=\"_parent\"><img src=\"https://colab.research.google.com/assets/colab-badge.svg\" alt=\"Open In Colab\"/></a>"
      ]
    },
    {
      "cell_type": "code",
      "execution_count": 29,
      "metadata": {
        "id": "APOQJla-H8xK"
      },
      "outputs": [],
      "source": [
        "from os import listdir\n",
        "import numpy as np\n",
        "from numpy import asarray  , save\n",
        "from tensorflow.keras.preprocessing.image import load_img , img_to_array"
      ]
    },
    {
      "cell_type": "code",
      "source": [
        "folder = '/content/drive/MyDrive/khuongImg/'\n",
        "photos , labels = list() , list()\n",
        "for file in listdir(folder):\n",
        "  output = 0.0\n",
        "  if file.startswith('khuong'):\n",
        "    output = 1.0\n",
        "  photo = load_img(folder+file)\n",
        "  photo = img_to_array(photo)\n",
        "  photos.append(photo)\n",
        "  labels.append(output)\n",
        "photos = asarray (photos)\n",
        "labels = asarray(labels)\n",
        "print (photos.shape , labels.shape)\n",
        "save('/content/drive/MyDrive/khuongImg/khuongPhotos.npy', photos)\n",
        "save('/content/drive/MyDrive/khuongImg/khuongLabels.npy', labels)"
      ],
      "metadata": {
        "id": "VHT33T6fJvIo",
        "colab": {
          "base_uri": "https://localhost:8080/"
        },
        "outputId": "1611186d-ba59-4b46-90fe-1a8a6ff0cd40"
      },
      "execution_count": 30,
      "outputs": [
        {
          "output_type": "stream",
          "name": "stdout",
          "text": [
            "(7, 40, 30, 3) (7,)\n"
          ]
        }
      ]
    }
  ]
}